{
 "cells": [
  {
   "cell_type": "code",
   "execution_count": 8,
   "metadata": {},
   "outputs": [],
   "source": [
    "from keywords import KeywordExtractor as kw\n",
    "\n",
    "kw_exctractor = kw()"
   ]
  },
  {
   "cell_type": "code",
   "execution_count": 9,
   "metadata": {},
   "outputs": [],
   "source": [
    "descriptions = ['Provide a report that displays the number of accounts with running settlements for the Earth portfolio, \\\n",
    "                their expected monthly payments at the end of the examined month and their actual monthly payments per DCA, for September 2020. ',\n",
    "                'Provide a report that displays the number of accounts not in running settlements for the Earth portfolio, \\\n",
    "                their expected monthly payments at the end of the examined month and their actual monthly payments per DCA, for September 2020.',\n",
    "                'Provide the number of customers with active and running settlements of types Settlement, \\\n",
    "                Preappoved, Resch to Sett, Out of Mandate Had Settlement and null on the Earth portfolio, \\\n",
    "                the corresponding number of applications, the initial settlement amount, discount amount \\\n",
    "                and future instalments per asset class and DCA, for September 2020.',\n",
    "                'Provide the distribution of the number of active and running settlements of types Settlement, \\\n",
    "                Preappoved, Resch to Sett, Out of Mandate Had Settlement and null on the Earth portfolio based on \\\n",
    "                their duration on the following bins: up to 6 months, 7 to 12 months, 13 to 36 months, 37 to 72 months, \\\n",
    "                72 to 108 months and more than 109 months. The analysis should be performane per asset class and DCA, for September 2020.',\n",
    "                'Produce a report that shows the bucket roll rates. On the rows of the report display the application bucket of the previous \\\n",
    "                month for the following categories: 1, 2, 3, 4, 5, 6, 7-12, 13+, null. On the columns of the report display the application \\\n",
    "                bucket of the current month for the same bucket categories. The report should measure the number of active \\\n",
    "                and running applications for each pair of the aforementioned previous/current bucket categories for Mirror portfolio, for September 2020.',\n",
    "                'Create a report that shows the number of settlement applications submitted during the month, \\\n",
    "                their approved amount and their entry principal and balance, for September 2020  per DCA and application type. \\\n",
    "                The report should be produced on Earth portfolio.',\n",
    "                'Create a report that shows the number of pending settlement applications \\\n",
    "                (in status Review, Working, Quality Control, For approval and Approved) \\\n",
    "                submitted up to the end of the previous month, their approved amount, the average pending days  \\\n",
    "                and their entry principal and balance, for September 2020  per DCA and application type. The report should be produced on Earth portfolio.',\n",
    "                'Create a report that shows the number of settlement applications approved during the month, their approved amount, \\\n",
    "                the written off balance, the average days to approval, their average and median duration and their entry principal and balance, \\\n",
    "                for September 2020 per DCA and application type. The report should be produced on Earth portfolio.',\n",
    "                'Create a report that shows the number of settlement applications rejected during the month, \\\n",
    "                their approved amount, the average days to rejection, their entry principal and entry balance, \\\n",
    "                for September 2020 per DCA and application type. The report should be produced on Earth portfolio.']\n",
    "\n",
    "stopwords = ['report', 'the', 'for', 'their', 'that', 'and']"
   ]
  },
  {
   "cell_type": "code",
   "execution_count": 10,
   "metadata": {},
   "outputs": [
    {
     "data": {
      "text/plain": [
       "['Provide report displays number accounts running settlements Earth portfolio , expected monthly payments end examined month actual monthly payments per DCA , September 2020 .',\n",
       " 'Provide report displays number accounts running settlements Earth portfolio , expected monthly payments end examined month actual monthly payments per DCA , September 2020 .',\n",
       " 'Provide number customers active running settlements types Settlement , Preappoved , Resch Sett , Out Mandate Had Settlement null Earth portfolio , corresponding number applications , initial settlement amount , discount amount future instalments per asset class DCA , September 2020 .',\n",
       " 'Provide distribution number active running settlements types Settlement , Preappoved , Resch Sett , Out Mandate Had Settlement null Earth portfolio based duration following bins : 6 months , 7 12 months , 13 36 months , 37 72 months , 72 108 months 109 months . The analysis performane per asset class DCA , September 2020 .',\n",
       " 'Produce report shows bucket roll rates . On rows report display application bucket previous month following categories : 1 , 2 , 3 , 4 , 5 , 6 , 7-12 , 13+ , null . On columns report display application bucket current month bucket categories . The report measure number active running applications pair aforementioned previous/current bucket categories Mirror portfolio , September 2020 .',\n",
       " 'Create report shows number settlement applications submitted month , approved amount entry principal balance , September 2020 per DCA application type . The report produced Earth portfolio .',\n",
       " 'Create report shows number pending settlement applications ( status Review , Working , Quality Control , For approval Approved ) submitted end previous month , approved amount , average pending days entry principal balance , September 2020 per DCA application type . The report produced Earth portfolio .',\n",
       " 'Create report shows number settlement applications approved month , approved amount , written balance , average days approval , average median duration entry principal balance , September 2020 per DCA application type . The report produced Earth portfolio .',\n",
       " 'Create report shows number settlement applications rejected month , approved amount , average days rejection , entry principal entry balance , September 2020 per DCA application type . The report produced Earth portfolio .']"
      ]
     },
     "execution_count": 10,
     "metadata": {},
     "output_type": "execute_result"
    }
   ],
   "source": [
    "from functions import remove_stopwords\n",
    "\n",
    "filtered_descriptions = [' '.join(remove_stopwords(descriptions[i])) for i in range(len(descriptions))]\n",
    "\n",
    "filtered_descriptions"
   ]
  },
  {
   "cell_type": "code",
   "execution_count": 11,
   "metadata": {},
   "outputs": [
    {
     "data": {
      "text/plain": [
       "['Preappoved',\n",
       " 'September',\n",
       " 'Settlement',\n",
       " 'Resch',\n",
       " 'Sett',\n",
       " 'Out',\n",
       " 'DCA',\n",
       " 'Mandate',\n",
       " 'Had',\n",
       " 'Earth',\n",
       " 'number',\n",
       " 'amount',\n",
       " 'Provide',\n",
       " 'portfolio',\n",
       " 'corresponding',\n",
       " 'applications',\n",
       " 'initial',\n",
       " 'discount',\n",
       " 'customers',\n",
       " 'active']"
      ]
     },
     "execution_count": 11,
     "metadata": {},
     "output_type": "execute_result"
    }
   ],
   "source": [
    "#yake\n",
    "kw_yake = kw_exctractor(mode = 'yake', text = filtered_descriptions[2], n=1, stopwords=stopwords, top=20)\n",
    "kw_yake"
   ]
  },
  {
   "cell_type": "code",
   "execution_count": 16,
   "metadata": {},
   "outputs": [
    {
     "data": {
      "text/plain": [
       "['settlement null earth portfolio',\n",
       " 'initial settlement amount',\n",
       " 'corresponding number applications',\n",
       " 'september 2020',\n",
       " 'resch sett',\n",
       " 'preappoved',\n",
       " 'mandate']"
      ]
     },
     "execution_count": 16,
     "metadata": {},
     "output_type": "execute_result"
    }
   ],
   "source": [
    "#rake\n",
    "kw_rake = kw_exctractor(mode='rake', text=filtered_descriptions[2], max_length=4, min_length=1, max_kw=20 )\n",
    "kw_rake"
   ]
  },
  {
   "cell_type": "code",
   "execution_count": 6,
   "metadata": {},
   "outputs": [
    {
     "data": {
      "text/plain": [
       "['customers',\n",
       " 'Customer',\n",
       " 'customer_satisfaction',\n",
       " 'customer_loyalty',\n",
       " 'cus_tomer',\n",
       " 'andcustomer',\n",
       " 'CSRs',\n",
       " 'clients',\n",
       " 'client',\n",
       " 'Customer_Service',\n",
       " 'user',\n",
       " 'Customers',\n",
       " 'salesperson',\n",
       " 'referenceability',\n",
       " 'customer_touchpoint',\n",
       " 'reseller',\n",
       " 'customerservice',\n",
       " 'customer_centric',\n",
       " 'customersâ_€_™',\n",
       " 'service_representatives_CSRs']"
      ]
     },
     "execution_count": 6,
     "metadata": {},
     "output_type": "execute_result"
    }
   ],
   "source": [
    "from functions import get_top_k_synonyms\n",
    "\n",
    "synonyms = get_top_k_synonyms('customer', k=20)\n",
    "\n",
    "synonyms"
   ]
  },
  {
   "cell_type": "code",
   "execution_count": 4,
   "metadata": {},
   "outputs": [
    {
     "data": {
      "text/plain": [
       "['applications',\n",
       " 'Application',\n",
       " 'applicaton',\n",
       " 'Breviary_prayer_book',\n",
       " 'applicant',\n",
       " 'appli_cation',\n",
       " 'Call_Sal_Palmeri',\n",
       " 'Gogii_mobile',\n",
       " 'nextgen_sequencing',\n",
       " 'iPad_myAgent_IDX',\n",
       " 'Applications',\n",
       " 'WWW_browser',\n",
       " 'USDLA_promotes',\n",
       " 'Submittal',\n",
       " 'Biophan_patent',\n",
       " 'OLAP_cube',\n",
       " 'submitted_Marketing_Authorisation',\n",
       " 'aplication',\n",
       " 'appli_cations',\n",
       " 'rolling_Biologics_License']"
      ]
     },
     "execution_count": 4,
     "metadata": {},
     "output_type": "execute_result"
    }
   ],
   "source": [
    "get_top_k_synonyms('application', k=20)"
   ]
  },
  {
   "cell_type": "code",
   "execution_count": 5,
   "metadata": {},
   "outputs": [
    {
     "data": {
      "text/plain": [
       "['accounts',\n",
       " 'acount',\n",
       " 'Account',\n",
       " 'accountholder',\n",
       " 'acccount',\n",
       " 'acct',\n",
       " 'NRE_FCNR',\n",
       " 'accout',\n",
       " 'Easy_Saver',\n",
       " 'subaccount',\n",
       " 'rollover_IRA',\n",
       " 'consideration',\n",
       " 'Accounts',\n",
       " 'Demat_account',\n",
       " 'HiSAVE',\n",
       " 'cashcard',\n",
       " 'deposited',\n",
       " 'Pay_Pal_account',\n",
       " 'Cincoarmstrong',\n",
       " 'acounts']"
      ]
     },
     "execution_count": 5,
     "metadata": {},
     "output_type": "execute_result"
    }
   ],
   "source": [
    "get_top_k_synonyms('account', k=20)"
   ]
  }
 ],
 "metadata": {
  "kernelspec": {
   "display_name": "project",
   "language": "python",
   "name": "python3"
  },
  "language_info": {
   "codemirror_mode": {
    "name": "ipython",
    "version": 3
   },
   "file_extension": ".py",
   "mimetype": "text/x-python",
   "name": "python",
   "nbconvert_exporter": "python",
   "pygments_lexer": "ipython3",
   "version": "3.9.16"
  }
 },
 "nbformat": 4,
 "nbformat_minor": 2
}
