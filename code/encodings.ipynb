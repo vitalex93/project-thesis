{
 "cells": [
  {
   "cell_type": "code",
   "execution_count": 3,
   "metadata": {},
   "outputs": [],
   "source": [
    "import pandas as pd\n",
    "\n",
    "df = pd.read_csv(\"../vector-indexes/mt_money.csv\", sep=';')"
   ]
  },
  {
   "cell_type": "code",
   "execution_count": 97,
   "metadata": {},
   "outputs": [],
   "source": [
    "import joblib\n",
    "import numpy as np\n",
    "\n",
    "\n",
    "\n",
    "tm = joblib.load('../models/models/bigrams_tfidf_model.joblib')\n",
    "\n",
    "l = list(df.Description)\n",
    "\n",
    "m = []\n",
    "for i in l:\n",
    "    m.append(tm.transform([i]).toarray()[0])\n",
    "\n",
    "\n",
    "vectors = np.array(m)\n",
    "dim = vectors.shape[1]"
   ]
  },
  {
   "cell_type": "code",
   "execution_count": 6,
   "metadata": {},
   "outputs": [],
   "source": [
    "from gensim.models import Word2Vec, KeyedVectors\n",
    "import gensim.downloader as api\n",
    "import numpy as np\n",
    "\n",
    "\n",
    "def encode_w2v(sentence, word2vec_version):\n",
    "    words = sentence.split()\n",
    "    embeddings = []\n",
    "    for word in words:\n",
    "        if word in word2vec_version:\n",
    "            embeddings.append(word2vec_version[word])\n",
    "    if len(embeddings) > 0:\n",
    "        sentence_embedding = sum(embeddings) / len(embeddings)\n",
    "        return sentence_embedding\n",
    "\n",
    "\n",
    "sentence = 'I am in love with an alien.'\n",
    "w2v_ver = 'word2vec-google-news-300'\n",
    "\n",
    "#semb = encode_w2v(sentence=sentence, word2vec_version=w2v_ver)\n",
    "#semb"
   ]
  },
  {
   "cell_type": "code",
   "execution_count": 7,
   "metadata": {},
   "outputs": [],
   "source": [
    "from functools import partial\n",
    "\n",
    "#enc_pr = partial(encode_w2v, worword2vec_version='')\n",
    "w2v = api.load(w2v_ver)\n",
    "idxvalues = list(df.Description)\n",
    "m = []\n",
    "for i in idxvalues:\n",
    "    m.append(encode_w2v(sentence=i, word2vec_version=w2v))\n",
    "\n",
    "\n",
    "vectors = np.array(m)\n",
    "dim = vectors.shape[1]"
   ]
  },
  {
   "cell_type": "code",
   "execution_count": 19,
   "metadata": {},
   "outputs": [
    {
     "data": {
      "text/plain": [
       "(10, 300)"
      ]
     },
     "execution_count": 19,
     "metadata": {},
     "output_type": "execute_result"
    }
   ],
   "source": [
    "vectors.shape"
   ]
  },
  {
   "cell_type": "code",
   "execution_count": 8,
   "metadata": {},
   "outputs": [
    {
     "data": {
      "text/plain": [
       "300"
      ]
     },
     "execution_count": 8,
     "metadata": {},
     "output_type": "execute_result"
    }
   ],
   "source": [
    "dim"
   ]
  },
  {
   "cell_type": "code",
   "execution_count": 9,
   "metadata": {},
   "outputs": [],
   "source": [
    "import faiss\n",
    "\n",
    "index = faiss.IndexFlatL2(dim)"
   ]
  },
  {
   "cell_type": "code",
   "execution_count": 10,
   "metadata": {},
   "outputs": [],
   "source": [
    "index.add(vectors)"
   ]
  },
  {
   "cell_type": "code",
   "execution_count": 65,
   "metadata": {},
   "outputs": [],
   "source": [
    "# search_query = \"Provide a report that displays the number of accounts with running settlements for the Earth portfolio, \\\n",
    "#     their expected monthly payments at the end of the examined month and their actual monthly payments per DCA, for September 2020. \"\n",
    "# search_query = \"looking for places to visit during the holidays\"\n",
    "# {'MT_ITEMS': ['number',\n",
    "#   '6 months',\n",
    "#   '7 12 months',\n",
    "#   '13 36 months',\n",
    "#   '37 72 months',\n",
    "#   '72 108',\n",
    "#   '109 months .'],\n",
    "search_query = \"72 108\"\n",
    "vec = encode_w2v(sentence=search_query, word2vec_version=w2v)\n",
    "svector = np.array(vec).reshape(1,-1)"
   ]
  },
  {
   "cell_type": "code",
   "execution_count": 66,
   "metadata": {},
   "outputs": [
    {
     "data": {
      "text/plain": [
       "array([[None]], dtype=object)"
      ]
     },
     "execution_count": 66,
     "metadata": {},
     "output_type": "execute_result"
    }
   ],
   "source": [
    "svector"
   ]
  },
  {
   "cell_type": "code",
   "execution_count": 33,
   "metadata": {},
   "outputs": [],
   "source": [
    "distances, I = index.search(svector, k=1)"
   ]
  },
  {
   "cell_type": "code",
   "execution_count": 34,
   "metadata": {},
   "outputs": [
    {
     "data": {
      "text/html": [
       "<div>\n",
       "<style scoped>\n",
       "    .dataframe tbody tr th:only-of-type {\n",
       "        vertical-align: middle;\n",
       "    }\n",
       "\n",
       "    .dataframe tbody tr th {\n",
       "        vertical-align: top;\n",
       "    }\n",
       "\n",
       "    .dataframe thead th {\n",
       "        text-align: right;\n",
       "    }\n",
       "</style>\n",
       "<table border=\"1\" class=\"dataframe\">\n",
       "  <thead>\n",
       "    <tr style=\"text-align: right;\">\n",
       "      <th></th>\n",
       "      <th>Entity</th>\n",
       "      <th>Type</th>\n",
       "      <th>Name</th>\n",
       "      <th>Description</th>\n",
       "    </tr>\n",
       "  </thead>\n",
       "  <tbody>\n",
       "    <tr>\n",
       "      <th>0</th>\n",
       "      <td>Account</td>\n",
       "      <td>MT_MONEY</td>\n",
       "      <td>MEAS_ACCL_STRAY_PAYMENT_PREDICTION_PAYERS_AMT</td>\n",
       "      <td>Payment prediction for stray payers, not in ac...</td>\n",
       "    </tr>\n",
       "  </tbody>\n",
       "</table>\n",
       "</div>"
      ],
      "text/plain": [
       "    Entity      Type                                           Name  \\\n",
       "0  Account  MT_MONEY  MEAS_ACCL_STRAY_PAYMENT_PREDICTION_PAYERS_AMT   \n",
       "\n",
       "                                         Description  \n",
       "0  Payment prediction for stray payers, not in ac...  "
      ]
     },
     "execution_count": 34,
     "metadata": {},
     "output_type": "execute_result"
    }
   ],
   "source": [
    "df.loc[I[0]]"
   ]
  }
 ],
 "metadata": {
  "kernelspec": {
   "display_name": "project",
   "language": "python",
   "name": "python3"
  },
  "language_info": {
   "codemirror_mode": {
    "name": "ipython",
    "version": 3
   },
   "file_extension": ".py",
   "mimetype": "text/x-python",
   "name": "python",
   "nbconvert_exporter": "python",
   "pygments_lexer": "ipython3",
   "version": "3.9.16"
  }
 },
 "nbformat": 4,
 "nbformat_minor": 2
}
