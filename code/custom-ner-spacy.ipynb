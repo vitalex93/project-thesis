{
 "cells": [
  {
   "cell_type": "code",
   "execution_count": 1,
   "metadata": {},
   "outputs": [],
   "source": [
    "import json\n",
    "\n",
    "f = open('../annotations.json')\n",
    "training_data = json.load(f)"
   ]
  },
  {
   "cell_type": "code",
   "execution_count": 2,
   "metadata": {},
   "outputs": [
    {
     "name": "stderr",
     "output_type": "stream",
     "text": [
      "c:\\Users\\avitsas\\Anaconda3\\envs\\project\\lib\\site-packages\\tqdm\\auto.py:21: TqdmWarning: IProgress not found. Please update jupyter and ipywidgets. See https://ipywidgets.readthedocs.io/en/stable/user_install.html\n",
      "  from .autonotebook import tqdm as notebook_tqdm\n"
     ]
    }
   ],
   "source": [
    "import spacy\n",
    "from spacy.tokens import DocBin\n",
    "from tqdm import tqdm\n",
    "\n",
    "nlp = spacy.blank(\"en\") # load a new spacy model\n",
    "db = DocBin() # create a DocBin object"
   ]
  },
  {
   "cell_type": "code",
   "execution_count": 3,
   "metadata": {},
   "outputs": [
    {
     "name": "stderr",
     "output_type": "stream",
     "text": [
      "100%|██████████| 9/9 [00:00<00:00, 998.22it/s]\n"
     ]
    }
   ],
   "source": [
    "for text, annot in tqdm(training_data['annotations']): \n",
    "    doc = nlp.make_doc(text) \n",
    "    ents = []\n",
    "    for start, end, label in annot[\"entities\"]:\n",
    "        span = doc.char_span(start, end, label=label, alignment_mode=\"contract\")\n",
    "        if span is None:\n",
    "            print(\"Skipping entity\")\n",
    "        else:\n",
    "            ents.append(span)\n",
    "    doc.ents = ents \n",
    "    db.add(doc)\n",
    "\n",
    "db.to_disk(\"../models/training_data.spacy\") # save the docbin object"
   ]
  },
  {
   "cell_type": "code",
   "execution_count": 4,
   "metadata": {},
   "outputs": [
    {
     "name": "stdout",
     "output_type": "stream",
     "text": [
      "\n",
      "\u001b[38;5;1m✘ The provided output file already exists. To force overwriting the\n",
      "config file, set the --force or -F flag.\u001b[0m\n",
      "\n"
     ]
    }
   ],
   "source": [
    "! python -m spacy init config config.cfg --lang en --pipeline ner --optimize efficiency"
   ]
  },
  {
   "cell_type": "code",
   "execution_count": 5,
   "metadata": {},
   "outputs": [
    {
     "name": "stdout",
     "output_type": "stream",
     "text": [
      "\u001b[38;5;4mℹ Saving to output directory: ..\\ner-results\u001b[0m\n",
      "\u001b[38;5;4mℹ Using CPU\u001b[0m\n",
      "\u001b[1m\n",
      "=========================== Initializing pipeline ===========================\u001b[0m\n",
      "\u001b[38;5;2m✔ Initialized pipeline\u001b[0m\n",
      "\u001b[1m\n",
      "============================= Training pipeline =============================\u001b[0m\n",
      "\u001b[38;5;4mℹ Pipeline: ['tok2vec', 'ner']\u001b[0m\n",
      "\u001b[38;5;4mℹ Initial learn rate: 0.001\u001b[0m\n",
      "E    #       LOSS TOK2VEC  LOSS NER  ENTS_F  ENTS_P  ENTS_R  SCORE \n",
      "---  ------  ------------  --------  ------  ------  ------  ------\n",
      "  0       0          0.00     34.56    0.00    0.00    0.00    0.00\n",
      " 29     200         86.44   1460.11  100.00  100.00  100.00    1.00\n",
      " 65     400          1.40      1.60  100.00  100.00  100.00    1.00\n",
      "112     600          0.00      0.00  100.00  100.00  100.00    1.00\n",
      "171     800          0.00      0.00  100.00  100.00  100.00    1.00\n",
      "239    1000          0.00      0.00  100.00  100.00  100.00    1.00\n",
      "335    1200          0.00      0.00  100.00  100.00  100.00    1.00\n",
      "435    1400          0.00      0.00  100.00  100.00  100.00    1.00\n",
      "559    1600          0.00      0.00  100.00  100.00  100.00    1.00\n",
      "759    1800          0.00      0.00  100.00  100.00  100.00    1.00\n",
      "\u001b[38;5;2m✔ Saved pipeline to output directory\u001b[0m\n",
      "..\\ner-results\\model-last\n"
     ]
    },
    {
     "name": "stderr",
     "output_type": "stream",
     "text": [
      "[2023-12-11 23:20:10,344] [INFO] Set up nlp object from config\n",
      "[2023-12-11 23:20:10,353] [INFO] Pipeline: ['tok2vec', 'ner']\n",
      "[2023-12-11 23:20:10,357] [INFO] Created vocabulary\n",
      "[2023-12-11 23:20:10,359] [INFO] Finished initializing nlp object\n",
      "[2023-12-11 23:20:10,499] [INFO] Initialized pipeline components: ['tok2vec', 'ner']\n"
     ]
    }
   ],
   "source": [
    "! python -m spacy train config.cfg --output ../ner-results/ --paths.train ../models/training_data.spacy --paths.dev ../models/training_data.spacy"
   ]
  },
  {
   "cell_type": "code",
   "execution_count": 6,
   "metadata": {},
   "outputs": [],
   "source": [
    "nlp_ner = spacy.load('../ner-results/model-best') "
   ]
  },
  {
   "cell_type": "code",
   "execution_count": 7,
   "metadata": {},
   "outputs": [],
   "source": [
    "doc = nlp_ner('''Generate a report detailing the September 2020 data for settlement applications within the Earth portfolio. This report should include information on the number of rejected applications, the approved settlement amounts, the average time it took for rejections, as well as the entry principal and entry balance, categorized by DCA (Debt Collection Agency) and application type.\n",
    "Generate a report presenting data for September 2020 within the Earth portfolio, focusing on approved settlement applications. This report should include the count of approved applications, the approved settlement amounts, the written-off balance, the average time taken for approvals, both the average and median durations, as well as the entry principal and balance. This information should be categorized by DCA (Debt Collection Agency) and application type. \t\n",
    "Generate a report for the Earth portfolio, covering September 2020, that provides insights into pending settlement applications as of the end of the previous month. The report should encompass the count of applications in statuses such as Review, Working, Quality Control, For approval, and Approved. Additionally, it should include information on the approved amounts, the average number of days these applications have been pending, as well as details on the entry principal and balance. This data should be categorized based on DCA (Debt Collection Agency) and application type.\n",
    "Generate a report for the Earth portfolio, specifically for September 2020, highlighting settlement applications submitted during that month. The report should include information on the count of applications, their approved amounts, as well as details regarding entry principal and balance. These data points should be organized and presented based on DCA (Debt Collection Agency) and application type.\n",
    "Generate a report for the Mirror portfolio, focusing on the bucket roll rates for September 2020. The report should present data in a matrix format, with rows representing the application bucket of the previous month categorized into groups 1, 2, 3, 4, 5, 6, 7-12, 13+, and null. Columns should represent the application bucket of the current month, also categorized into the same groups.\n",
    "\n",
    "Within this matrix, the report should measure and display the number of active and running applications for each combination of the previous month's bucket and the current month's bucket. This will provide insights into how applications move between different bucket categories from one month to the next.\n",
    "Furnish an analysis for the Earth portfolio in September 2020, categorizing settlements of types Settlement, Preapproved, Resch to Sett, Out of Mandate Had Settlement, and null based on their duration. The duration should be divided into the following bins: up to 6 months, 7 to 12 months, 13 to 36 months, 37 to 72 months, 72 to 108 months, and more than 109 months.\n",
    "Furnish a report for September 2020 within the Earth portfolio, detailing the following information per asset class and DCA (Debt Collection Agency):\n",
    "\n",
    "The number of customers with active and running settlements for types Settlement, Preapproved, Resch to Sett, Out of Mandate Had Settlement, and null.\n",
    "\n",
    "The corresponding number of applications for each of these settlement types.\n",
    "\n",
    "The initial settlement amount for these applications.\n",
    "\n",
    "The discount amount applied to each settlement.\n",
    "\n",
    "Details on future installment payments associated with these settlements.\n",
    "\n",
    "This report will provide a comprehensive overview of the customer base, applications, settlement amounts, and installment information broken down by asset class and DCA for September 2020 within the Earth portfolio.\n",
    "Generate a report for September 2020 within the Earth portfolio, focusing on accounts that are not in running settlements. This report should include the following information categorized by DCA (Debt Collection Agency):\n",
    "\n",
    "The number of accounts not in running settlements.\n",
    "\n",
    "The expected monthly payments at the end of the examined month for these accounts.\n",
    "\n",
    "The actual monthly payments made by these accounts during September 2020.\n",
    "\n",
    "This report will provide insights into accounts that are not currently in settlements, their expected and actual monthly payments, and how this information  varies across different DCAs within the Earth portfolio.\n",
    "\n",
    "Create a report for the Earth portfolio, specifically for September 2020, focusing on accounts that have running settlements. This report should present the following data categorized by DCA (Debt Collection Agency):\n",
    "\n",
    "The number of accounts with active running settlements.\n",
    "\n",
    "The expected monthly payments at the end of the examined month for these accounts.\n",
    "\n",
    "The actual monthly payments made by these accounts during September 2020.\n",
    "\n",
    "This report will offer insights into accounts that are currently in running settlements, providing information on their expected and actual monthly payment behavior, and how this varies across different DCAs within the Earth portfolio.''')\n",
    "\n",
    "R3 = nlp_ner('''Provide the number of customers with active and running settlements of types Settlement, Preappoved, Resch to Sett,\\\n",
    "       Out of Mandate Had Settlement and null on the Earth portfolio, the corresponding number of applications,\\\n",
    "       the initial settlement amount, discount amount and future instalments per asset class and DCA, for September 2020.''')\n",
    "R1 = nlp_ner('''Provide a report that displays the number of accounts with running settlements for the Earth portfolio, \\\n",
    "             their expected monthly payments at the end of the examined month and their actual monthly payments per DCA, for September 2020. ''')\n",
    "R6 = nlp_ner('''Create a report that shows the number of settlement applications submitted during the month, \\\n",
    "             their approved amount and their entry principal and balance, for September 2020  per DCA and application type. \\\n",
    "             The report should be produced on Earth portfolio.''')"
   ]
  },
  {
   "cell_type": "code",
   "execution_count": 8,
   "metadata": {},
   "outputs": [
    {
     "data": {
      "text/html": [
       "<span class=\"tex2jax_ignore\"><div class=\"entities\" style=\"line-height: 2.5; direction: ltr\">Provide the \n",
       "<mark class=\"entity\" style=\"background: #ddd; padding: 0.45em 0.6em; margin: 0 0.25em; line-height: 1; border-radius: 0.35em;\">\n",
       "    number\n",
       "    <span style=\"font-size: 0.8em; font-weight: bold; line-height: 1; border-radius: 0.35em; vertical-align: middle; margin-left: 0.5rem\">MT_ITEMS</span>\n",
       "</mark>\n",
       " of customers with active and running settlements of types Settlement, Preappoved, Resch to Sett,       Out of Mandate Had Settlement and null on the Earth \n",
       "<mark class=\"entity\" style=\"background: #ddd; padding: 0.45em 0.6em; margin: 0 0.25em; line-height: 1; border-radius: 0.35em;\">\n",
       "    portfolio\n",
       "    <span style=\"font-size: 0.8em; font-weight: bold; line-height: 1; border-radius: 0.35em; vertical-align: middle; margin-left: 0.5rem\">MT_LOV</span>\n",
       "</mark>\n",
       ", the corresponding \n",
       "<mark class=\"entity\" style=\"background: #ddd; padding: 0.45em 0.6em; margin: 0 0.25em; line-height: 1; border-radius: 0.35em;\">\n",
       "    number\n",
       "    <span style=\"font-size: 0.8em; font-weight: bold; line-height: 1; border-radius: 0.35em; vertical-align: middle; margin-left: 0.5rem\">MT_ITEMS</span>\n",
       "</mark>\n",
       " of applications,       the initial settlement \n",
       "<mark class=\"entity\" style=\"background: #ddd; padding: 0.45em 0.6em; margin: 0 0.25em; line-height: 1; border-radius: 0.35em;\">\n",
       "    amount\n",
       "    <span style=\"font-size: 0.8em; font-weight: bold; line-height: 1; border-radius: 0.35em; vertical-align: middle; margin-left: 0.5rem\">MT_MONEY</span>\n",
       "</mark>\n",
       ", \n",
       "<mark class=\"entity\" style=\"background: #ddd; padding: 0.45em 0.6em; margin: 0 0.25em; line-height: 1; border-radius: 0.35em;\">\n",
       "    discount amount\n",
       "    <span style=\"font-size: 0.8em; font-weight: bold; line-height: 1; border-radius: 0.35em; vertical-align: middle; margin-left: 0.5rem\">MT_MONEY</span>\n",
       "</mark>\n",
       " and future \n",
       "<mark class=\"entity\" style=\"background: #ddd; padding: 0.45em 0.6em; margin: 0 0.25em; line-height: 1; border-radius: 0.35em;\">\n",
       "    instalments\n",
       "    <span style=\"font-size: 0.8em; font-weight: bold; line-height: 1; border-radius: 0.35em; vertical-align: middle; margin-left: 0.5rem\">MT_MONEY</span>\n",
       "</mark>\n",
       " per \n",
       "<mark class=\"entity\" style=\"background: #ddd; padding: 0.45em 0.6em; margin: 0 0.25em; line-height: 1; border-radius: 0.35em;\">\n",
       "    asset class\n",
       "    <span style=\"font-size: 0.8em; font-weight: bold; line-height: 1; border-radius: 0.35em; vertical-align: middle; margin-left: 0.5rem\">MT_LOV</span>\n",
       "</mark>\n",
       " and \n",
       "<mark class=\"entity\" style=\"background: #ddd; padding: 0.45em 0.6em; margin: 0 0.25em; line-height: 1; border-radius: 0.35em;\">\n",
       "    DCA\n",
       "    <span style=\"font-size: 0.8em; font-weight: bold; line-height: 1; border-radius: 0.35em; vertical-align: middle; margin-left: 0.5rem\">MT_LOV</span>\n",
       "</mark>\n",
       ", for \n",
       "<mark class=\"entity\" style=\"background: #ddd; padding: 0.45em 0.6em; margin: 0 0.25em; line-height: 1; border-radius: 0.35em;\">\n",
       "    September 2020\n",
       "    <span style=\"font-size: 0.8em; font-weight: bold; line-height: 1; border-radius: 0.35em; vertical-align: middle; margin-left: 0.5rem\">MT_DATE</span>\n",
       "</mark>\n",
       ".</div></span>"
      ],
      "text/plain": [
       "<IPython.core.display.HTML object>"
      ]
     },
     "metadata": {},
     "output_type": "display_data"
    }
   ],
   "source": [
    "spacy.displacy.render(R3, style=\"ent\", jupyter=True) # display in Jupyter"
   ]
  },
  {
   "cell_type": "code",
   "execution_count": 9,
   "metadata": {},
   "outputs": [
    {
     "data": {
      "text/plain": [
       "[('number', 'MT_ITEMS'),\n",
       " ('portfolio', 'MT_LOV'),\n",
       " ('number', 'MT_ITEMS'),\n",
       " ('amount', 'MT_MONEY'),\n",
       " ('discount amount', 'MT_MONEY'),\n",
       " ('instalments', 'MT_MONEY'),\n",
       " ('asset class', 'MT_LOV'),\n",
       " ('DCA', 'MT_LOV'),\n",
       " ('September 2020', 'MT_DATE')]"
      ]
     },
     "execution_count": 9,
     "metadata": {},
     "output_type": "execute_result"
    }
   ],
   "source": [
    "from functions import extract_named_entities\n",
    "\n",
    "descriptions = ['Generate a report detailing the September 2020 data for settlement applications within the Earth portfolio. \\\n",
    "                This report should include information on the number of rejected applications, the approved settlement amounts, \\\n",
    "                the average time it took for rejections, as well as the entry principal and entry balance, \\\n",
    "                categorized by DCA (Debt Collection Agency) and application type.',\n",
    "                'Generate a report presenting data for September 2020 within the Earth portfolio, focusing on approved settlement applications. \\\n",
    "                    This report should include the count of approved applications, the approved settlement amounts, the written-off balance, \\\n",
    "                        the average time taken for approvals, both the average and median durations, as well as the entry principal and balance. \\\n",
    "                            This information should be categorized by DCA (Debt Collection Agency) and application type.',\n",
    "                            'Provide the number of customers with active and running settlements of types Settlement, Preappoved, Resch to Sett,\\\n",
    "                                  Out of Mandate Had Settlement and null on the Earth portfolio, the corresponding number of applications, \\\n",
    "                                    the initial settlement amount, discount amount and future instalments per asset class and DCA, for September 2020.']\n",
    "entities = extract_named_entities(descriptions, nlp_ner)\n",
    "\n",
    "entities[2]"
   ]
  },
  {
   "cell_type": "code",
   "execution_count": 10,
   "metadata": {},
   "outputs": [
    {
     "data": {
      "text/plain": [
       "(10, 2)"
      ]
     },
     "execution_count": 10,
     "metadata": {},
     "output_type": "execute_result"
    }
   ],
   "source": [
    "import pandas as pd\n",
    "\n",
    "df = pd.read_csv(\"../vectortest.csv\", sep=';')\n",
    "df.shape"
   ]
  },
  {
   "cell_type": "code",
   "execution_count": 11,
   "metadata": {},
   "outputs": [
    {
     "data": {
      "text/html": [
       "<div>\n",
       "<style scoped>\n",
       "    .dataframe tbody tr th:only-of-type {\n",
       "        vertical-align: middle;\n",
       "    }\n",
       "\n",
       "    .dataframe tbody tr th {\n",
       "        vertical-align: top;\n",
       "    }\n",
       "\n",
       "    .dataframe thead th {\n",
       "        text-align: right;\n",
       "    }\n",
       "</style>\n",
       "<table border=\"1\" class=\"dataframe\">\n",
       "  <thead>\n",
       "    <tr style=\"text-align: right;\">\n",
       "      <th></th>\n",
       "      <th>name</th>\n",
       "      <th>description</th>\n",
       "    </tr>\n",
       "  </thead>\n",
       "  <tbody>\n",
       "    <tr>\n",
       "      <th>0</th>\n",
       "      <td>MEAS_ACCL_STRAY_PAYMENT_PREDICTION_PAYERS_AMT</td>\n",
       "      <td>Payment prediction for stray payers, not in ac...</td>\n",
       "    </tr>\n",
       "    <tr>\n",
       "      <th>1</th>\n",
       "      <td>MEAS_ACCL_SETTLEMENT_PAYMENT_PREDICTION_PAYERS...</td>\n",
       "      <td>Payment prediction for settlement payers</td>\n",
       "    </tr>\n",
       "    <tr>\n",
       "      <th>2</th>\n",
       "      <td>MEAS_ACCH_AMT_PAYMENT_CP</td>\n",
       "      <td>Amount paid within the observation period</td>\n",
       "    </tr>\n",
       "    <tr>\n",
       "      <th>3</th>\n",
       "      <td>MEAS_APPL_AMT_APPROVED</td>\n",
       "      <td>Approved amount</td>\n",
       "    </tr>\n",
       "    <tr>\n",
       "      <th>4</th>\n",
       "      <td>MEAS_APPL_AMT_DISCOUNT</td>\n",
       "      <td>Discount amount</td>\n",
       "    </tr>\n",
       "    <tr>\n",
       "      <th>5</th>\n",
       "      <td>MEAS_APPL_AMT_PAYMENTS_TOTAL</td>\n",
       "      <td>Total payments amount so far</td>\n",
       "    </tr>\n",
       "    <tr>\n",
       "      <th>6</th>\n",
       "      <td>MEAS_APLL_AMT_WRITEOFF</td>\n",
       "      <td>Balance written off</td>\n",
       "    </tr>\n",
       "    <tr>\n",
       "      <th>7</th>\n",
       "      <td>MEAS_APLL_AMT_ENTRY_PRINCIPAL</td>\n",
       "      <td>Principal on arrangement creation</td>\n",
       "    </tr>\n",
       "    <tr>\n",
       "      <th>8</th>\n",
       "      <td>MEAS_APLL_AMT_ENTRY_BALANCE</td>\n",
       "      <td>Balance on arrangement creation</td>\n",
       "    </tr>\n",
       "    <tr>\n",
       "      <th>9</th>\n",
       "      <td>MEAS_APLL_AMT_INSTALMENTS_FUTURE</td>\n",
       "      <td>Total future instalments amount</td>\n",
       "    </tr>\n",
       "  </tbody>\n",
       "</table>\n",
       "</div>"
      ],
      "text/plain": [
       "                                                name  \\\n",
       "0      MEAS_ACCL_STRAY_PAYMENT_PREDICTION_PAYERS_AMT   \n",
       "1  MEAS_ACCL_SETTLEMENT_PAYMENT_PREDICTION_PAYERS...   \n",
       "2                           MEAS_ACCH_AMT_PAYMENT_CP   \n",
       "3                             MEAS_APPL_AMT_APPROVED   \n",
       "4                             MEAS_APPL_AMT_DISCOUNT   \n",
       "5                       MEAS_APPL_AMT_PAYMENTS_TOTAL   \n",
       "6                             MEAS_APLL_AMT_WRITEOFF   \n",
       "7                      MEAS_APLL_AMT_ENTRY_PRINCIPAL   \n",
       "8                        MEAS_APLL_AMT_ENTRY_BALANCE   \n",
       "9                   MEAS_APLL_AMT_INSTALMENTS_FUTURE   \n",
       "\n",
       "                                         description  \n",
       "0  Payment prediction for stray payers, not in ac...  \n",
       "1           Payment prediction for settlement payers  \n",
       "2          Amount paid within the observation period  \n",
       "3                                    Approved amount  \n",
       "4                                    Discount amount  \n",
       "5                       Total payments amount so far  \n",
       "6                                Balance written off  \n",
       "7                  Principal on arrangement creation  \n",
       "8                    Balance on arrangement creation  \n",
       "9                    Total future instalments amount  "
      ]
     },
     "execution_count": 11,
     "metadata": {},
     "output_type": "execute_result"
    }
   ],
   "source": [
    "df"
   ]
  },
  {
   "cell_type": "code",
   "execution_count": 12,
   "metadata": {},
   "outputs": [],
   "source": [
    "from sentence_transformers import SentenceTransformer"
   ]
  },
  {
   "cell_type": "code",
   "execution_count": 13,
   "metadata": {},
   "outputs": [],
   "source": [
    "encoder = SentenceTransformer(\"all-mpnet-base-v2\")"
   ]
  },
  {
   "cell_type": "code",
   "execution_count": 14,
   "metadata": {},
   "outputs": [],
   "source": [
    "vectors = encoder.encode(df.description)"
   ]
  },
  {
   "cell_type": "code",
   "execution_count": 15,
   "metadata": {},
   "outputs": [
    {
     "data": {
      "text/plain": [
       "768"
      ]
     },
     "execution_count": 15,
     "metadata": {},
     "output_type": "execute_result"
    }
   ],
   "source": [
    "dim = vectors.shape[1]\n",
    "dim"
   ]
  },
  {
   "cell_type": "markdown",
   "metadata": {},
   "source": [
    "Step 2 : Build a FAISS Index for vectors"
   ]
  },
  {
   "cell_type": "code",
   "execution_count": 16,
   "metadata": {},
   "outputs": [],
   "source": [
    "import faiss\n",
    "\n",
    "index = faiss.IndexFlatL2(dim)"
   ]
  },
  {
   "cell_type": "markdown",
   "metadata": {},
   "source": [
    "Step 3 : Normalize the source vectors (as we are using L2 distance to measure similarity) and add to the index"
   ]
  },
  {
   "cell_type": "code",
   "execution_count": 17,
   "metadata": {},
   "outputs": [],
   "source": [
    "index.add(vectors)"
   ]
  },
  {
   "cell_type": "code",
   "execution_count": 18,
   "metadata": {},
   "outputs": [
    {
     "data": {
      "text/plain": [
       "(768,)"
      ]
     },
     "execution_count": 18,
     "metadata": {},
     "output_type": "execute_result"
    }
   ],
   "source": [
    "search_query = \"Create report shows number settlement applications submitted month , approved amount entry principal balance , \\\n",
    "    September 2020 per DCA application type . The report produced Earth portfolio .\"\n",
    "# search_query = \"looking for places to visit during the holidays\"\n",
    "# search_query = \"An apple a day keeps the doctor away\"\n",
    "vec = encoder.encode(search_query)\n",
    "vec.shape"
   ]
  },
  {
   "cell_type": "code",
   "execution_count": 19,
   "metadata": {},
   "outputs": [
    {
     "data": {
      "text/plain": [
       "(1, 768)"
      ]
     },
     "execution_count": 19,
     "metadata": {},
     "output_type": "execute_result"
    }
   ],
   "source": [
    "import numpy as np\n",
    "svec = np.array(vec).reshape(1,-1)\n",
    "svec.shape"
   ]
  },
  {
   "cell_type": "markdown",
   "metadata": {},
   "source": [
    "Step 5: Search for similar vector in the FAISS index created"
   ]
  },
  {
   "cell_type": "code",
   "execution_count": 20,
   "metadata": {},
   "outputs": [
    {
     "data": {
      "text/plain": [
       "array([[1, 5, 2, 3, 0]], dtype=int64)"
      ]
     },
     "execution_count": 20,
     "metadata": {},
     "output_type": "execute_result"
    }
   ],
   "source": [
    "distances, I = index.search(svec, k=5)\n",
    "I"
   ]
  },
  {
   "cell_type": "code",
   "execution_count": 21,
   "metadata": {},
   "outputs": [
    {
     "data": {
      "text/html": [
       "<div>\n",
       "<style scoped>\n",
       "    .dataframe tbody tr th:only-of-type {\n",
       "        vertical-align: middle;\n",
       "    }\n",
       "\n",
       "    .dataframe tbody tr th {\n",
       "        vertical-align: top;\n",
       "    }\n",
       "\n",
       "    .dataframe thead th {\n",
       "        text-align: right;\n",
       "    }\n",
       "</style>\n",
       "<table border=\"1\" class=\"dataframe\">\n",
       "  <thead>\n",
       "    <tr style=\"text-align: right;\">\n",
       "      <th></th>\n",
       "      <th>name</th>\n",
       "      <th>description</th>\n",
       "    </tr>\n",
       "  </thead>\n",
       "  <tbody>\n",
       "    <tr>\n",
       "      <th>1</th>\n",
       "      <td>MEAS_ACCL_SETTLEMENT_PAYMENT_PREDICTION_PAYERS...</td>\n",
       "      <td>Payment prediction for settlement payers</td>\n",
       "    </tr>\n",
       "    <tr>\n",
       "      <th>5</th>\n",
       "      <td>MEAS_APPL_AMT_PAYMENTS_TOTAL</td>\n",
       "      <td>Total payments amount so far</td>\n",
       "    </tr>\n",
       "    <tr>\n",
       "      <th>2</th>\n",
       "      <td>MEAS_ACCH_AMT_PAYMENT_CP</td>\n",
       "      <td>Amount paid within the observation period</td>\n",
       "    </tr>\n",
       "    <tr>\n",
       "      <th>3</th>\n",
       "      <td>MEAS_APPL_AMT_APPROVED</td>\n",
       "      <td>Approved amount</td>\n",
       "    </tr>\n",
       "    <tr>\n",
       "      <th>0</th>\n",
       "      <td>MEAS_ACCL_STRAY_PAYMENT_PREDICTION_PAYERS_AMT</td>\n",
       "      <td>Payment prediction for stray payers, not in ac...</td>\n",
       "    </tr>\n",
       "  </tbody>\n",
       "</table>\n",
       "</div>"
      ],
      "text/plain": [
       "                                                name  \\\n",
       "1  MEAS_ACCL_SETTLEMENT_PAYMENT_PREDICTION_PAYERS...   \n",
       "5                       MEAS_APPL_AMT_PAYMENTS_TOTAL   \n",
       "2                           MEAS_ACCH_AMT_PAYMENT_CP   \n",
       "3                             MEAS_APPL_AMT_APPROVED   \n",
       "0      MEAS_ACCL_STRAY_PAYMENT_PREDICTION_PAYERS_AMT   \n",
       "\n",
       "                                         description  \n",
       "1           Payment prediction for settlement payers  \n",
       "5                       Total payments amount so far  \n",
       "2          Amount paid within the observation period  \n",
       "3                                    Approved amount  \n",
       "0  Payment prediction for stray payers, not in ac...  "
      ]
     },
     "execution_count": 21,
     "metadata": {},
     "output_type": "execute_result"
    }
   ],
   "source": [
    "df.loc[I[0]]"
   ]
  }
 ],
 "metadata": {
  "kernelspec": {
   "display_name": "project",
   "language": "python",
   "name": "python3"
  },
  "language_info": {
   "codemirror_mode": {
    "name": "ipython",
    "version": 3
   },
   "file_extension": ".py",
   "mimetype": "text/x-python",
   "name": "python",
   "nbconvert_exporter": "python",
   "pygments_lexer": "ipython3",
   "version": "3.9.16"
  }
 },
 "nbformat": 4,
 "nbformat_minor": 2
}
