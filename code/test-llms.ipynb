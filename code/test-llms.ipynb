{
 "cells": [
  {
   "cell_type": "code",
   "execution_count": 15,
   "metadata": {},
   "outputs": [
    {
     "name": "stdout",
     "output_type": "stream",
     "text": [
      "\n",
      "\n",
      "\u001b[1m> Entering new LLMChain chain...\u001b[0m\n",
      "Prompt after formatting:\n",
      "\u001b[32;1m\u001b[1;3mmen Identify the grouping and filtering predicates in the following query:Create a report that shows the number of settlement applications approved during the month, their approved amount,      the written off balance, the average days to approval, their average and median duration and their entry principal and balance,         for September 2020 per DCA and application type. The report should be produced on Earth portfolio..\u001b[0m\n",
      "\n",
      "\u001b[1m> Finished chain.\u001b[0m\n"
     ]
    },
    {
     "data": {
      "text/plain": [
       "'<pad> The  grouping  predicates  in  this  query  are:\\n *'"
      ]
     },
     "execution_count": 15,
     "metadata": {},
     "output_type": "execute_result"
    }
   ],
   "source": [
    "from dotenv import load_dotenv\n",
    "from langchain import HuggingFaceHub, LLMChain\n",
    "from langchain.prompts import PromptTemplate\n",
    "from langchain.llms import VertexAI\n",
    "\n",
    "load_dotenv()\n",
    "\n",
    "\n",
    "#llm = VertexAI()\n",
    "hub_llm = HuggingFaceHub(repo_id=\"lmsys/fastchat-t5-3b-v1.0\")\n",
    "#google/flan-t5-xxl\n",
    "#google/flan-ul2\n",
    "#HuggingFaceH4/starchat-beta\n",
    "#GebeyaTalent/generate_reason\n",
    "#mrm8488/t5-base-finetuned-wikiSQL\n",
    "#facebook/bart-large-cnn\n",
    "#google/flan-t5-base\n",
    "#meta-llama/Llama-2-7b-chat-hf\n",
    "t = 'Identify the grouping and filtering predicated in the following query:'\n",
    "template = PromptTemplate(\n",
    "            input_variables=['lov', 'description'],\n",
    "         #   template= \"Does the word {lov} imply a grouping or a filtering operation in the following query: `{description}`. \"\n",
    "                template= '{lov} Identify the grouping and filtering predicates in the following query:{description}.'\n",
    "        )\n",
    "t = 'Identify the grouping and filtering predicated in the following query:'\n",
    "\n",
    "hub_chain = LLMChain(prompt=template, llm=hub_llm, verbose=True)\n",
    "\n",
    "lov = 'men'\n",
    "d = 'Find the customers with salary greater than 1500 dollars for men.'\n",
    "f = 'for September 2020 per DCA and application type.'\n",
    "description = '''Create a report that shows the number of settlement applications approved during the month, their approved amount,\\\n",
    "      the written off balance, the average days to approval, their average and median duration and their entry principal and balance, \\\n",
    "        for September 2020 per DCA and application type. The report should be produced on Earth portfolio.'''\n",
    "\n",
    "chain = LLMChain(llm=hub_llm, prompt=template, verbose=True)\n",
    "chain.run({'lov':lov, 'description':description})\n"
   ]
  }
 ],
 "metadata": {
  "kernelspec": {
   "display_name": "project",
   "language": "python",
   "name": "python3"
  },
  "language_info": {
   "codemirror_mode": {
    "name": "ipython",
    "version": 3
   },
   "file_extension": ".py",
   "mimetype": "text/x-python",
   "name": "python",
   "nbconvert_exporter": "python",
   "pygments_lexer": "ipython3",
   "version": "3.9.16"
  }
 },
 "nbformat": 4,
 "nbformat_minor": 2
}
